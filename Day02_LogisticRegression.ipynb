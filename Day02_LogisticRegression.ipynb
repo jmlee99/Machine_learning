{
 "cells": [
  {
   "cell_type": "code",
   "execution_count": 4,
   "id": "5c1616aa",
   "metadata": {},
   "outputs": [],
   "source": [
    "import numpy as np\n",
    "import pandas as pd\n",
    "import matplotlib.pyplot as plt\n",
    "import seaborn as sns\n",
    "\n",
    "from sklearn.datasets import load_iris\n",
    "from sklearn.model_selection import train_test_split\n",
    "from sklearn.linear_model import LogisticRegression, SGDClassifier\n",
    "from sklearn.metrics import RocCurveDisplay, roc_auc_score"
   ]
  },
  {
   "cell_type": "code",
   "execution_count": 18,
   "id": "1596dccd",
   "metadata": {},
   "outputs": [
    {
     "name": "stdout",
     "output_type": "stream",
     "text": [
      "[1 1 2 2 2 1 0 2 2 0 1 1 1 1 0 2 0 1 0 0 2 2 0 1 2 0 2 2 1 2 0 0 0 1 1 1 0\n",
      " 2]\n",
      "(array([0, 1, 2]), array([12, 13, 13]))\n",
      "train score :  0.9642857142857143\n",
      "test score :  0.9736842105263158\n",
      "test pred :  [1 1 2 2 2 1 0 2 2 0 1 1 1 1 0 2 0 1 0 0 2 2 0 1 2 0 2 2 1 2 0 0 0 2 1 1 0\n",
      " 2]\n",
      "test targer : [1 1 2 2 2 1 0 2 2 0 1 1 1 1 0 2 0 1 0 0 2 2 0 1 2 0 2 2 1 2 0 0 0 1 1 1 0\n",
      " 2]\n"
     ]
    }
   ],
   "source": [
    "X, y = load_iris(return_X_y = True)\n",
    "#print(X)\n",
    "#print(y)\n",
    "\n",
    "X_train, X_test, y_train, y_test = train_test_split(X, y, stratify=y, random_state = 10)\n",
    "# stratify=y test에 활용될 target값을 균일하게 주세요 하는 것이다.\n",
    "print(y_test)\n",
    "print(np.unique(y_test, return_counts=True))\n",
    "\n",
    "m = LogisticRegression(solver = 'liblinear')\n",
    "#m = SGDClassifier(loss = 'log_loss')\n",
    "m.fit(X_train, y_train)\n",
    "\n",
    "print('train score : ', m.score(X_train, y_train))\n",
    "print('test score : ', m.score(X_test, y_test))\n",
    "\n",
    "print('test pred : ', m.predict(X_test))\n",
    "print('test targer :', y_test)"
   ]
  },
  {
   "cell_type": "markdown",
   "id": "ef552b7b",
   "metadata": {},
   "source": [
    "#### LogisticRegression은 이미 과적합을 막기위해 L1값을 주고있다."
   ]
  },
  {
   "cell_type": "markdown",
   "id": "9ada171f",
   "metadata": {},
   "source": [
    "#### $ 오즈비(odds ratio) = p / (1-p) $\n",
    "- $ p : 성공확률 $\n",
    "- $ 1-p : 실패확률 $\n",
    "\n",
    "> $ 로짓 (logit), z = log(odds_ratio) = log(p/(1-p)) $\n",
    "\n",
    "*decision function*\n",
    "\n",
    "> $ z = intercept + coef_i*x_i $\n",
    "\n",
    "*proba*\n",
    "\n",
    "> $ p = 1/(1+e^{-z}) $"
   ]
  },
  {
   "cell_type": "code",
   "execution_count": 28,
   "id": "b623d7b2",
   "metadata": {},
   "outputs": [
    {
     "name": "stdout",
     "output_type": "stream",
     "text": [
      "[1 1 2 2 2 1 0 2 2 0 1 1 1 1 0 2 0 1 0 0 2 2 0 1 2 0 2 2 1 2 0 0 0 2 1 1 0\n",
      " 2]\n",
      "[[ 0.39290018  1.36102732 -2.12425585 -0.92019062]\n",
      " [ 0.52205527 -1.53419324  0.37077866 -1.01447023]\n",
      " [-1.69442156 -1.16444044  2.35357227  2.04617696]] [ 0.27094323  0.60188714 -0.94206978]\n",
      "[[4.81216933e-02 7.99299930e-01 1.52578377e-01]\n",
      " [1.28969815e-02 5.46418375e-01 4.40684643e-01]\n",
      " [1.58331416e-03 3.95460869e-01 6.02955816e-01]\n",
      " [8.12953101e-04 3.91361151e-01 6.07825896e-01]\n",
      " [8.04112439e-04 1.79059226e-01 8.20136661e-01]\n",
      " [1.51750569e-02 5.29140382e-01 4.55684561e-01]\n",
      " [8.45729334e-01 1.54208916e-01 6.17496189e-05]\n",
      " [3.62370926e-04 2.42963704e-01 7.56673925e-01]\n",
      " [3.08622177e-04 4.32306320e-01 5.67385058e-01]\n",
      " [8.50364557e-01 1.49496789e-01 1.38653764e-04]\n",
      " [1.25217053e-02 5.53819984e-01 4.33658311e-01]\n",
      " [2.68628497e-02 5.90746669e-01 3.82390481e-01]\n",
      " [1.30714549e-01 7.06389879e-01 1.62895571e-01]\n",
      " [2.08257706e-02 5.81315948e-01 3.97858281e-01]\n",
      " [8.72458722e-01 1.27498989e-01 4.22892193e-05]\n",
      " [3.57756999e-03 3.04239167e-01 6.92183263e-01]\n",
      " [7.77278310e-01 2.22588246e-01 1.33443556e-04]\n",
      " [5.99115626e-02 8.07858200e-01 1.32230238e-01]\n",
      " [9.10285876e-01 8.95581442e-02 1.55980075e-04]\n",
      " [8.34308078e-01 1.65504919e-01 1.87002545e-04]\n",
      " [5.05363778e-03 3.96898262e-01 5.98048100e-01]\n",
      " [5.31638344e-04 2.39124711e-01 7.60343650e-01]\n",
      " [7.98274264e-01 2.01634534e-01 9.12016442e-05]\n",
      " [1.12101732e-01 7.42261310e-01 1.45636957e-01]\n",
      " [5.03432854e-04 2.86876786e-01 7.12619781e-01]\n",
      " [8.51628112e-01 1.48332658e-01 3.92293470e-05]\n",
      " [1.85245943e-03 1.47863472e-01 8.50284068e-01]\n",
      " [1.37449975e-03 3.44497392e-01 6.54128108e-01]\n",
      " [1.56153885e-02 6.80048990e-01 3.04335621e-01]\n",
      " [1.19073054e-03 3.19158268e-01 6.79651001e-01]\n",
      " [9.27943438e-01 7.20365592e-02 2.00023543e-05]\n",
      " [8.06662878e-01 1.93069422e-01 2.67700257e-04]\n",
      " [9.55325832e-01 4.46631240e-02 1.10442713e-05]\n",
      " [1.43731591e-02 3.30877851e-01 6.54748990e-01]\n",
      " [4.69205368e-02 6.49132765e-01 3.03946699e-01]\n",
      " [2.77302862e-01 6.50776458e-01 7.19206791e-02]\n",
      " [8.56201372e-01 1.43782078e-01 1.65494999e-05]\n",
      " [1.38873050e-03 2.93761939e-01 7.04849331e-01]]\n",
      "[[ -3.59806438  -0.23058256  -2.3828542 ]\n",
      " [ -4.48038926  -0.10164945  -0.47780314]\n",
      " [ -6.2208588   -0.01824787   1.1275709 ]\n",
      " [ -6.94676631  -0.15010771   0.93643776]\n",
      " [ -7.01397034  -1.38591742   2.39345669]\n",
      " [ -4.43404841  -0.3684462   -0.60960061]\n",
      " [  3.56883795  -1.5344781   -9.55259444]\n",
      " [ -7.78875517  -0.95583904   1.85653409]\n",
      " [ -7.71704185   0.50361149   1.50330455]\n",
      " [  3.27557515  -1.58988089  -8.75838177]\n",
      " [ -4.65765584  -0.3403347   -0.72848113]\n",
      " [ -3.9721644   -0.378466    -1.0297861 ]\n",
      " [ -2.46761527  -0.31300644  -2.22642701]\n",
      " [ -4.30912752  -0.53083189  -1.0802824 ]\n",
      " [  3.88033343  -1.78911122  -9.95492468]\n",
      " [ -5.74900413  -0.99424087   0.46608171]\n",
      " [  2.73567859  -1.0000644   -8.73254785]\n",
      " [ -3.51243351  -0.44517378  -2.68409383]\n",
      " [  3.04247558  -2.26687391  -8.71823529]\n",
      " [  2.890014    -1.46351963  -8.45710947]\n",
      " [ -5.33497039  -0.50342008   0.27234877]\n",
      " [ -7.3515961   -0.9032428    2.40193764]\n",
      " [  3.13693595  -1.14132009  -9.11952466]\n",
      " [ -2.56442798  -0.10738159  -2.27942512]\n",
      " [ -7.32387128  -0.50817418   2.63479306]\n",
      " [  3.78352072  -1.58348637 -10.00792279]\n",
      " [ -6.25300282  -1.70870394   2.00891635]\n",
      " [ -6.43187397  -0.39409708   1.1786348 ]\n",
      " [ -4.51619198  -0.11661816  -1.32054524]\n",
      " [ -6.5900611   -0.54182157   1.28416143]\n",
      " [  4.57100187  -2.48614385 -10.75514916]\n",
      " [  2.78868692  -1.23403397  -8.07016533]\n",
      " [  4.94453442  -3.02246815 -11.37498139]\n",
      " [ -4.46375112  -1.03479547   0.07507316]\n",
      " [ -3.58434607  -0.51675766  -1.55102952]\n",
      " [ -1.70767481  -0.57469533  -3.18320935]\n",
      " [  4.24991909  -1.61736698 -10.86805053]\n",
      " [ -6.35752901  -0.54903629   1.97725081]]\n"
     ]
    }
   ],
   "source": [
    "print(m.predict(X_test))\n",
    "print(m.coef_, m.intercept_)\n",
    "# 0.39290018*x + 1.36102732*x + -2.12425585*x + -0.92019062*x +0.27094323 ==> class =0일확률이다. 1, 2도 동일\n",
    "print(m.predict_proba(X_test))\n",
    "# 4.81216933e-02 7.99299930e-01 1.52578377e-01 이중에 가장 확률이 높은 것으로 대답을 주는 것이다.\n",
    "# 7.99299930e-01 이것이 가장 크기 때문에 2번쨰 품종이다.\n",
    "print(m.decision_function(X_test))"
   ]
  },
  {
   "cell_type": "code",
   "execution_count": 31,
   "id": "1b0530af",
   "metadata": {},
   "outputs": [
    {
     "name": "stdout",
     "output_type": "stream",
     "text": [
      "[-3.59806438 -4.48038926 -6.2208588  -6.94676631 -7.01397034 -4.43404841\n",
      "  3.56883795 -7.78875517 -7.71704185  3.27557515 -4.65765584 -3.9721644\n",
      " -2.46761527 -4.30912752  3.88033343 -5.74900413  2.73567859 -3.51243351\n",
      "  3.04247558  2.890014   -5.33497039 -7.3515961   3.13693595 -2.56442798\n",
      " -7.32387128  3.78352072 -6.25300282 -6.43187397 -4.51619198 -6.5900611\n",
      "  4.57100187  2.78868692  4.94453442 -4.46375112 -3.58434607 -1.70767481\n",
      "  4.24991909 -6.35752901]\n",
      "[[ -3.59806438  -0.23058256  -2.3828542 ]\n",
      " [ -4.48038926  -0.10164945  -0.47780314]\n",
      " [ -6.2208588   -0.01824787   1.1275709 ]\n",
      " [ -6.94676631  -0.15010771   0.93643776]\n",
      " [ -7.01397034  -1.38591742   2.39345669]\n",
      " [ -4.43404841  -0.3684462   -0.60960061]\n",
      " [  3.56883795  -1.5344781   -9.55259444]\n",
      " [ -7.78875517  -0.95583904   1.85653409]\n",
      " [ -7.71704185   0.50361149   1.50330455]\n",
      " [  3.27557515  -1.58988089  -8.75838177]\n",
      " [ -4.65765584  -0.3403347   -0.72848113]\n",
      " [ -3.9721644   -0.378466    -1.0297861 ]\n",
      " [ -2.46761527  -0.31300644  -2.22642701]\n",
      " [ -4.30912752  -0.53083189  -1.0802824 ]\n",
      " [  3.88033343  -1.78911122  -9.95492468]\n",
      " [ -5.74900413  -0.99424087   0.46608171]\n",
      " [  2.73567859  -1.0000644   -8.73254785]\n",
      " [ -3.51243351  -0.44517378  -2.68409383]\n",
      " [  3.04247558  -2.26687391  -8.71823529]\n",
      " [  2.890014    -1.46351963  -8.45710947]\n",
      " [ -5.33497039  -0.50342008   0.27234877]\n",
      " [ -7.3515961   -0.9032428    2.40193764]\n",
      " [  3.13693595  -1.14132009  -9.11952466]\n",
      " [ -2.56442798  -0.10738159  -2.27942512]\n",
      " [ -7.32387128  -0.50817418   2.63479306]\n",
      " [  3.78352072  -1.58348637 -10.00792279]\n",
      " [ -6.25300282  -1.70870394   2.00891635]\n",
      " [ -6.43187397  -0.39409708   1.1786348 ]\n",
      " [ -4.51619198  -0.11661816  -1.32054524]\n",
      " [ -6.5900611   -0.54182157   1.28416143]\n",
      " [  4.57100187  -2.48614385 -10.75514916]\n",
      " [  2.78868692  -1.23403397  -8.07016533]\n",
      " [  4.94453442  -3.02246815 -11.37498139]\n",
      " [ -4.46375112  -1.03479547   0.07507316]\n",
      " [ -3.58434607  -0.51675766  -1.55102952]\n",
      " [ -1.70767481  -0.57469533  -3.18320935]\n",
      " [  4.24991909  -1.61736698 -10.86805053]\n",
      " [ -6.35752901  -0.54903629   1.97725081]]\n"
     ]
    }
   ],
   "source": [
    "#print(X_test)\n",
    "#print(m.coef_)\n",
    "#print(m.intercept_)\n",
    "\n",
    "# X_test 내 샘플들의 class 0번일 확률을 구하는 decision_function\n",
    "t1 = X_test * m.coef_[0]\n",
    "t1 = t1.sum(axis =1)\n",
    "t1 = t1+m.intercept_[0]\n",
    "print(t1)\n",
    "print(m.decision_function(X_test))"
   ]
  },
  {
   "cell_type": "code",
   "execution_count": 33,
   "id": "edaa572c",
   "metadata": {},
   "outputs": [
    {
     "name": "stdout",
     "output_type": "stream",
     "text": [
      "[1 1 2 2 2 1 0 2 2 0 1 1 1 1 0 2 0 1 0 0 2 2 0 1 2 0 2 2 1 2 0 0 0 2 1 1 0\n",
      " 2]\n",
      "[1 1 2 2 2 1 0 2 2 0 1 1 1 1 0 2 0 1 0 0 2 2 0 1 2 0 2 2 1 2 0 0 0 2 1 1 0\n",
      " 2]\n",
      "[[4.81216933e-02 7.99299930e-01 1.52578377e-01]\n",
      " [1.28969815e-02 5.46418375e-01 4.40684643e-01]\n",
      " [1.58331416e-03 3.95460869e-01 6.02955816e-01]\n",
      " [8.12953101e-04 3.91361151e-01 6.07825896e-01]\n",
      " [8.04112439e-04 1.79059226e-01 8.20136661e-01]\n",
      " [1.51750569e-02 5.29140382e-01 4.55684561e-01]\n",
      " [8.45729334e-01 1.54208916e-01 6.17496189e-05]\n",
      " [3.62370926e-04 2.42963704e-01 7.56673925e-01]\n",
      " [3.08622177e-04 4.32306320e-01 5.67385058e-01]\n",
      " [8.50364557e-01 1.49496789e-01 1.38653764e-04]\n",
      " [1.25217053e-02 5.53819984e-01 4.33658311e-01]\n",
      " [2.68628497e-02 5.90746669e-01 3.82390481e-01]\n",
      " [1.30714549e-01 7.06389879e-01 1.62895571e-01]\n",
      " [2.08257706e-02 5.81315948e-01 3.97858281e-01]\n",
      " [8.72458722e-01 1.27498989e-01 4.22892193e-05]\n",
      " [3.57756999e-03 3.04239167e-01 6.92183263e-01]\n",
      " [7.77278310e-01 2.22588246e-01 1.33443556e-04]\n",
      " [5.99115626e-02 8.07858200e-01 1.32230238e-01]\n",
      " [9.10285876e-01 8.95581442e-02 1.55980075e-04]\n",
      " [8.34308078e-01 1.65504919e-01 1.87002545e-04]\n",
      " [5.05363778e-03 3.96898262e-01 5.98048100e-01]\n",
      " [5.31638344e-04 2.39124711e-01 7.60343650e-01]\n",
      " [7.98274264e-01 2.01634534e-01 9.12016442e-05]\n",
      " [1.12101732e-01 7.42261310e-01 1.45636957e-01]\n",
      " [5.03432854e-04 2.86876786e-01 7.12619781e-01]\n",
      " [8.51628112e-01 1.48332658e-01 3.92293470e-05]\n",
      " [1.85245943e-03 1.47863472e-01 8.50284068e-01]\n",
      " [1.37449975e-03 3.44497392e-01 6.54128108e-01]\n",
      " [1.56153885e-02 6.80048990e-01 3.04335621e-01]\n",
      " [1.19073054e-03 3.19158268e-01 6.79651001e-01]\n",
      " [9.27943438e-01 7.20365592e-02 2.00023543e-05]\n",
      " [8.06662878e-01 1.93069422e-01 2.67700257e-04]\n",
      " [9.55325832e-01 4.46631240e-02 1.10442713e-05]\n",
      " [1.43731591e-02 3.30877851e-01 6.54748990e-01]\n",
      " [4.69205368e-02 6.49132765e-01 3.03946699e-01]\n",
      " [2.77302862e-01 6.50776458e-01 7.19206791e-02]\n",
      " [8.56201372e-01 1.43782078e-01 1.65494999e-05]\n",
      " [1.38873050e-03 2.93761939e-01 7.04849331e-01]]\n"
     ]
    }
   ],
   "source": [
    "print(m.predict(X_test))\n",
    "print(np.argmax(m.predict_proba(X_test), axis=1))\n",
    "print(m.predict_proba(X_test))"
   ]
  },
  {
   "cell_type": "markdown",
   "id": "8d53acab",
   "metadata": {},
   "source": [
    "![스크린샷 2023-05-26 20-49-47](스크린샷 2023-05-26 20-49-47.png)\n",
    "\n",
    "- TPR : True Positive Rate\n",
    "- FPR : False Positive Rate"
   ]
  },
  {
   "cell_type": "code",
   "execution_count": 43,
   "id": "ba868dfe",
   "metadata": {},
   "outputs": [
    {
     "name": "stdout",
     "output_type": "stream",
     "text": [
      "[False False False False False False False False False False False False\n",
      " False False False False False False False False False False False False\n",
      " False False False False False False False False False False False False\n",
      " False False False False False False False False False False False False\n",
      " False False  True  True  True  True  True  True  True  True  True  True\n",
      "  True  True  True  True  True  True  True  True  True  True  True  True\n",
      "  True  True  True  True  True  True  True  True  True  True  True  True\n",
      "  True  True  True  True  True  True  True  True  True  True  True  True\n",
      "  True  True  True  True False False False False False False False False\n",
      " False False False False False False False False False False False False\n",
      " False False False False False False False False False False False False\n",
      " False False False False False False False False False False False False\n",
      " False False False False False False]\n",
      "0.7105263157894737\n"
     ]
    },
    {
     "data": {
      "text/plain": [
       "<sklearn.metrics._plot.roc_curve.RocCurveDisplay at 0x7f943d0860e0>"
      ]
     },
     "execution_count": 43,
     "metadata": {},
     "output_type": "execute_result"
    },
    {
     "data": {
      "image/png": "[encoded data removed]",
      "text/plain": [
       "<Figure size 432x288 with 1 Axes>"
      ]
     },
     "metadata": {
      "needs_background": "light"
     },
     "output_type": "display_data"
    }
   ],
   "source": [
    "# confusion matrix, roc curve\n",
    "X, y = load_iris(return_X_y = True)\n",
    "\n",
    "# 두개의 레이블만 가지고 1이 되면 posstive\n",
    "\n",
    "#X = X[:-50]\n",
    "#y = y[:-50]\n",
    "\n",
    "y = y==1\n",
    "print(y)\n",
    "\n",
    "X_train, X_test, y_train, y_test = train_test_split(X, y, stratify=y, random_state = 10)\n",
    "\n",
    "m = LogisticRegression(solver = 'liblinear')\n",
    "#m = SGDClassifier(loss = 'log_loss')\n",
    "m.fit(X_train, y_train)\n",
    "print(m.score(X_test, y_test))\n",
    "RocCurveDisplay.from_predictions(y_test, m.predict(X_test))\n",
    "\n",
    "# TPR과 FPR의 비율\n",
    "# TPR : 맞았는데 그 원래값이 맞는거고\n",
    "# FPR : 틀렸는데 그 원래값이 맞는거다."
   ]
  },
  {
   "cell_type": "code",
   "execution_count": null,
   "id": "b149076e",
   "metadata": {},
   "outputs": [],
   "source": []
  }
 ],
 "metadata": {
  "kernelspec": {
   "display_name": "Python 3 (ipykernel)",
   "language": "python",
   "name": "python3"
  },
  "language_info": {
   "codemirror_mode": {
    "name": "ipython",
    "version": 3
   },
   "file_extension": ".py",
   "mimetype": "text/x-python",
   "name": "python",
   "nbconvert_exporter": "python",
   "pygments_lexer": "ipython3",
   "version": "3.10.6"
  }
 },
 "nbformat": 4,
 "nbformat_minor": 5
}

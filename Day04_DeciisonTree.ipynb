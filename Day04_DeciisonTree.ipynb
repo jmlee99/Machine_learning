{
 "cells": [
  {
   "cell_type": "code",
   "execution_count": 16,
   "id": "bdc3218a",
   "metadata": {},
   "outputs": [],
   "source": [
    "import numpy as np\n",
    "import pandas as pd\n",
    "import matplotlib.pyplot as plt\n",
    "import seaborn as sns\n",
    "\n",
    "from sklearn.datasets import load_iris\n",
    "from sklearn.model_selection import train_test_split\n",
    "from sklearn.tree import DecisionTreeClassifier, plot_tree\n",
    "from sklearn import metrics\n",
    "from sklearn.metrics import RocCurveDisplay, roc_auc_score\n",
    "from sklearn.preprocessing import LabelEncoder, MinMaxScaler, StandardScaler"
   ]
  },
  {
   "cell_type": "code",
   "execution_count": 17,
   "id": "2056d026",
   "metadata": {},
   "outputs": [],
   "source": [
    "X, y = load_iris(return_X_y = True)"
   ]
  },
  {
   "cell_type": "code",
   "execution_count": 25,
   "id": "089764c4",
   "metadata": {},
   "outputs": [
    {
     "name": "stdout",
     "output_type": "stream",
     "text": [
      "train score :  0.9642857142857143\n",
      "test score :  0.9473684210526315\n"
     ]
    },
    {
     "data": {
      "text/plain": [
       "[Text(0.375, 0.875, 'x[2] <= 2.5\\nentropy = 1.585\\nsamples = 112\\nvalue = [37, 38, 37]'),\n",
       " Text(0.25, 0.625, 'entropy = 0.0\\nsamples = 37\\nvalue = [37, 0, 0]'),\n",
       " Text(0.5, 0.625, 'x[3] <= 1.75\\nentropy = 1.0\\nsamples = 75\\nvalue = [0, 38, 37]'),\n",
       " Text(0.25, 0.375, 'x[1] <= 2.65\\nentropy = 0.384\\nsamples = 40\\nvalue = [0, 37, 3]'),\n",
       " Text(0.125, 0.125, 'entropy = 0.75\\nsamples = 14\\nvalue = [0, 11, 3]'),\n",
       " Text(0.375, 0.125, 'entropy = 0.0\\nsamples = 26\\nvalue = [0, 26, 0]'),\n",
       " Text(0.75, 0.375, 'x[2] <= 4.95\\nentropy = 0.187\\nsamples = 35\\nvalue = [0, 1, 34]'),\n",
       " Text(0.625, 0.125, 'entropy = 0.918\\nsamples = 3\\nvalue = [0, 1, 2]'),\n",
       " Text(0.875, 0.125, 'entropy = 0.0\\nsamples = 32\\nvalue = [0, 0, 32]')]"
      ]
     },
     "execution_count": 25,
     "metadata": {},
     "output_type": "execute_result"
    },
    {
     "data": {
      "image/png": "[encoded data removed]",
      "text/plain": [
       "<Figure size 432x288 with 1 Axes>"
      ]
     },
     "metadata": {
      "needs_background": "light"
     },
     "output_type": "display_data"
    }
   ],
   "source": [
    "X_train, X_test, y_train, y_test = train_test_split(X, y, stratify = y, random_state = 120)\n",
    "\n",
    "# decision tree는 보통 train score가 높게 나온다. ==> random forest를 사용하는 이유\n",
    "# 과적중을 막기위해 depth를 제한한다. == max_depth\n",
    "\n",
    "# 수치는 entropy와 gini를 사용할 수 있다.\n",
    "\n",
    "# min_samples_split == The minimum number of samples required to split an internal node:\n",
    "\n",
    "# min_sample_leaf == leaf의 최소 nodes개수를 제한한다.\n",
    "# he minimum number of samples required to be at a leaf node. A split point at any depth will only be considered\n",
    "# if it leaves at least min_samples_leaf training samples in each of the left and right branches. \n",
    "# This may have the effect of smoothing the model, especially in regression.\n",
    "\n",
    "m = DecisionTreeClassifier(criterion = 'entropy', max_depth = 3, min_samples_leaf = 3)\n",
    "m.fit(X_train, y_train)\n",
    "\n",
    "print('train score : ', m.score(X_train, y_train))\n",
    "print('test score : ', m.score(X_test, y_test))\n",
    "\n",
    "\n",
    "\n",
    "plot_tree(m)"
   ]
  },
  {
   "cell_type": "code",
   "execution_count": 31,
   "id": "a50cd49a",
   "metadata": {},
   "outputs": [
    {
     "name": "stdout",
     "output_type": "stream",
     "text": [
      "\n",
      "Train score :  1.0\n",
      "Test score :  0.0\n",
      "\n",
      "Train score :  1.0\n",
      "Test score :  0.0\n",
      "\n",
      "Train score :  1.0\n",
      "Test score :  0.0\n"
     ]
    }
   ],
   "source": [
    "from sklearn.model_selection import KFold\n",
    "\n",
    "m = KFold(n_splits = 3)\n",
    "for train, test in m.split(X):\n",
    "    print('')\n",
    "    #print('train : ', train)\n",
    "    #print(X[train], y[train])\n",
    "    #print('test : ', test)\n",
    "    #print(X[test], y[test])\n",
    "    d = DecisionTreeClassifier()\n",
    "    d.fit(X[train], y[train])\n",
    "    \n",
    "    print('Train score : ', d.score(X[train], y[train]))\n",
    "    print('Test score : ', d.score(X[test], y[test]))"
   ]
  },
  {
   "cell_type": "code",
   "execution_count": 28,
   "id": "49317caa",
   "metadata": {},
   "outputs": [
    {
     "data": {
      "text/plain": [
       "array([30, 50, 20])"
      ]
     },
     "execution_count": 28,
     "metadata": {},
     "output_type": "execute_result"
    }
   ],
   "source": [
    "a = np.array([10, 20, 30, 40, 50])\n",
    "a[[2,4,1]]"
   ]
  },
  {
   "cell_type": "code",
   "execution_count": null,
   "id": "37f76eda",
   "metadata": {},
   "outputs": [],
   "source": [
    "#model_selecion.LeaveOneOut == Test용 하나의 세트만 때두고 나머지는 다 Train 시키는 것\n",
    "#model_selection.POut도 있다."
   ]
  }
 ],
 "metadata": {
  "kernelspec": {
   "display_name": "Python 3 (ipykernel)",
   "language": "python",
   "name": "python3"
  },
  "language_info": {
   "codemirror_mode": {
    "name": "ipython",
    "version": 3
   },
   "file_extension": ".py",
   "mimetype": "text/x-python",
   "name": "python",
   "nbconvert_exporter": "python",
   "pygments_lexer": "ipython3",
   "version": "3.10.6"
  }
 },
 "nbformat": 4,
 "nbformat_minor": 5
}

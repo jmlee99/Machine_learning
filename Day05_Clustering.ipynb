{
 "cells": [
  {
   "cell_type": "markdown",
   "id": "6a997bc9",
   "metadata": {},
   "source": [
    "## Clustering (군집화)\n",
    "\n",
    "1. ***K-Means***\n",
    "- 군집 갯수를 정해주어야 함.\n",
    "- 정해진 군집 갯수 만큼의 랜덤 샘플로부터 시작\n",
    "**방법**\n",
    "- 데이터를 더해가면서 **평균값(centroid) == 중심점**과 가까운 것들끼리 군집화\n",
    "- 평균값 지속적 업데이트 ==> **첫번째 중심점과 두번째 데이터 사이 거리의 평균을 내서 그 곳을 다시 중심점으로 update**\n",
    "**K-Means 특징**\n",
    "- 군집 크기 비슷, 군집 모양 원형\n",
    "\n",
    "2. ***Affinity Propagation(가까운 것끼리 확산)***\n",
    "**조절 방법**\n",
    "- preference : 기준 데이터 허용 갯수\n",
    "- damping : 기준데이터 적합성 점수 영향력 조절\n",
    "**방법**\n",
    "- 기준데이터(exemplar)로 부터 가까운 것들끼리 군집화\n",
    "- 데이터를 더해가면서 기준 데이터의 적합성 검토, 업데이트\n",
    "\n",
    "3. ***Mean Shift***\n",
    "- bandwidth : 검사 영역 설정\n",
    "- 평균값에서 bandwidth만큼의 범위 내의 값으로 군집화\n",
    "**K-Means와 차이점**\n",
    "K-means는 군집의 갯수를 정해주어야 한다.\n",
    "Mean Shift는 군집의 갯수를 정해주지 않는다.\n",
    "\n",
    "4. ***Spectral Clusting***\n",
    "- 군집의 갯수를 입력\n",
    "- 근접 행렬를 만들어 k-means와 같은 방식으로 적용\n",
    "\n",
    "5. ***Agglomerate Clusting***\n",
    "- 계층화된 방식(Tree)을 이용하여 군집형성, 상형식\n",
    "- BIRCH\n",
    "\n",
    "6. ***DBSCAN***\n",
    "- min_samples : 밀집의 정도를 결정\n",
    "- eps : 데이터 사이 거리 == 각각의 밀집도가 어느정도 떨어져야 구분선이 그려질까하는 그 밀집도 사이의 거리를 측정\n",
    "- 데이터의 밀집도(Density)에 따라 군집 형성\n",
    "- 다양한 군집 형태\n",
    "- OPTICS : eps 범주화(range)\n",
    "\n",
    "7. ***Scores(평가), skearn.metrics***\n",
    "- ***Homogeneity*** : 하나의 군집(CLuster)에 하나의 분류(Class, Label)가 들어있음             start : clusting ==> data\n",
    "- ***Completeness*** : 하나의 분류(Class, Label)에 속하는 데이터가 하나의 군집(CLuster)에 속함 start :data => clusting"
   ]
  },
  {
   "cell_type": "code",
   "execution_count": 1,
   "id": "74bda8be",
   "metadata": {},
   "outputs": [],
   "source": [
    "import numpy as np\n",
    "import pandas as pd\n",
    "import matplotlib.pyplot as plt\n",
    "import seaborn as sns\n",
    "from sklearn.datasets import load_iris\n",
    "from sklearn.cluster import KMeans\n",
    "from sklearn import metrics"
   ]
  },
  {
   "cell_type": "code",
   "execution_count": 5,
   "id": "36bb5de4",
   "metadata": {},
   "outputs": [
    {
     "name": "stdout",
     "output_type": "stream",
     "text": [
      "[1 1 1 1 1 1 1 1 1 1 1 1 1 1 1 1 1 1 1 1 1 1 1 1 1 1 1 1 1 1 1 1 1 1 1 1 1\n",
      " 1 1 1 1 1 1 1 1 1 1 1 1 1 0 0 2 0 0 0 0 0 0 0 0 0 0 0 0 0 0 0 0 0 0 0 0 0\n",
      " 0 0 0 2 0 0 0 0 0 0 0 0 0 0 0 0 0 0 0 0 0 0 0 0 0 0 2 0 2 2 2 2 0 2 2 2 2\n",
      " 2 2 0 0 2 2 2 2 0 2 0 2 0 2 2 0 0 2 2 2 2 2 0 2 2 2 2 0 2 2 2 0 2 2 2 0 2\n",
      " 2 0]\n"
     ]
    },
    {
     "data": {
      "text/plain": [
       "0.7514854021988334"
      ]
     },
     "execution_count": 5,
     "metadata": {},
     "output_type": "execute_result"
    }
   ],
   "source": [
    "X, y = load_iris(return_X_y = True)\n",
    "\n",
    "m = KMeans(n_clusters=3, n_init = 'auto')\n",
    "m.fit(X)\n",
    "print(m.labels_)\n",
    "\n",
    "metrics.homogeneity_score(y, m.labels_) # (True value, predict value)"
   ]
  }
 ],
 "metadata": {
  "kernelspec": {
   "display_name": "Python 3 (ipykernel)",
   "language": "python",
   "name": "python3"
  },
  "language_info": {
   "codemirror_mode": {
    "name": "ipython",
    "version": 3
   },
   "file_extension": ".py",
   "mimetype": "text/x-python",
   "name": "python",
   "nbconvert_exporter": "python",
   "pygments_lexer": "ipython3",
   "version": "3.10.6"
  }
 },
 "nbformat": 4,
 "nbformat_minor": 5
}

{
 "cells": [
  {
   "cell_type": "code",
   "execution_count": 101,
   "id": "d988a732",
   "metadata": {},
   "outputs": [],
   "source": [
    "import numpy as np\n",
    "import pandas as pd\n",
    "import matplotlib.pyplot as plt\n",
    "import seaborn as sns\n",
    "\n",
    "from sklearn.datasets import load_iris, load_breast_cancer\n",
    "from sklearn.model_selection import train_test_split\n",
    "from sklearn.naive_bayes import GaussianNB, BernoulliNB\n",
    "from sklearn.linear_model import LogisticRegression\n",
    "from sklearn import metrics\n",
    "from sklearn.metrics import RocCurveDisplay, roc_auc_score\n",
    "from sklearn.preprocessing import LabelEncoder, MinMaxScaler, StandardScaler"
   ]
  },
  {
   "cell_type": "code",
   "execution_count": 103,
   "id": "e164f80f",
   "metadata": {},
   "outputs": [],
   "source": [
    "X,y = load_iris(return_X_y = True)"
   ]
  },
  {
   "cell_type": "code",
   "execution_count": 104,
   "id": "bf238a86",
   "metadata": {},
   "outputs": [],
   "source": [
    "X_train, X_test, y_train, y_test = train_test_split(X, y, stratify = y, random_state = 10)"
   ]
  },
  {
   "cell_type": "code",
   "execution_count": 105,
   "id": "a187f108",
   "metadata": {},
   "outputs": [
    {
     "name": "stdout",
     "output_type": "stream",
     "text": [
      "train score :  0.9464285714285714\n",
      "test score :  1.0\n",
      "[38. 37. 37.]\n",
      "[0.33928571 0.33035714 0.33035714]\n",
      "[1 1 2 2 2 1 0 2 2 0 1 1 1 1 0 2 0 1 0 0 2 2 0 1 2 0 2 2 1 2 0 0 0 1 1 1 0\n",
      " 2]\n",
      "[[1.03551337e-081 9.97663173e-001 2.33682708e-003]\n",
      " [2.95168784e-079 9.99647721e-001 3.52278999e-004]\n",
      " [1.55082683e-143 4.29751129e-002 9.57024887e-001]\n",
      " [6.67343309e-199 5.06131720e-006 9.99994939e-001]\n",
      " [6.34898932e-227 1.03232615e-009 9.99999999e-001]\n",
      " [1.62783858e-087 9.98233380e-001 1.76662013e-003]\n",
      " [1.00000000e+000 1.01896956e-019 5.79526041e-024]\n",
      " [1.13141994e-275 1.34536146e-012 1.00000000e+000]\n",
      " [1.17037178e-213 4.46425560e-007 9.99999554e-001]\n",
      " [1.00000000e+000 4.06642028e-020 3.49368190e-024]\n",
      " [1.37179093e-101 9.81659122e-001 1.83408776e-002]\n",
      " [3.04755816e-075 9.99586394e-001 4.13605988e-004]\n",
      " [4.44687886e-033 9.99995934e-001 4.06607837e-006]\n",
      " [5.92371125e-097 9.86635629e-001 1.33643709e-002]\n",
      " [1.00000000e+000 5.08861696e-020 3.25048342e-024]\n",
      " [3.03275770e-179 2.16665628e-006 9.99997833e-001]\n",
      " [1.00000000e+000 1.50237029e-017 3.46331338e-022]\n",
      " [6.78098546e-091 9.77671191e-001 2.23288094e-002]\n",
      " [1.00000000e+000 9.52731739e-014 1.19799540e-018]\n",
      " [1.00000000e+000 1.58947708e-018 6.93020583e-023]\n",
      " [9.24321133e-127 2.64439746e-001 7.35560254e-001]\n",
      " [5.66314783e-224 1.16573701e-008 9.99999988e-001]\n",
      " [1.00000000e+000 1.27920588e-019 8.13553473e-024]\n",
      " [1.88361638e-033 9.99997087e-001 2.91338376e-006]\n",
      " [8.85411037e-197 3.42238590e-006 9.99996578e-001]\n",
      " [1.00000000e+000 1.52796710e-019 8.41528819e-024]\n",
      " [8.35585902e-191 1.31211071e-006 9.99998688e-001]\n",
      " [1.23790181e-164 2.23051457e-003 9.97769485e-001]\n",
      " [1.49346397e-103 9.48413070e-001 5.15869304e-002]\n",
      " [6.55427153e-186 1.03309127e-005 9.99989669e-001]\n",
      " [1.00000000e+000 2.19144002e-018 1.04527444e-022]\n",
      " [1.00000000e+000 1.21501966e-019 1.00824992e-023]\n",
      " [1.00000000e+000 8.64276535e-018 2.56970841e-022]\n",
      " [7.84605247e-095 9.86583154e-001 1.34168464e-002]\n",
      " [1.62825355e-071 9.99636546e-001 3.63453923e-004]\n",
      " [1.17731140e-028 9.99995233e-001 4.76729330e-006]\n",
      " [1.00000000e+000 1.39182820e-019 1.07650318e-023]\n",
      " [3.07061890e-146 3.23879118e-002 9.67612088e-001]]\n"
     ]
    }
   ],
   "source": [
    "m = GaussianNB()\n",
    "m.fit(X_train, y_train)\n",
    "print('train score : ', m.score(X_train, y_train))\n",
    "print('test score : ', m.score(X_test, y_test))\n",
    "print(m.class_count_)\n",
    "print(m.class_prior_)\n",
    "print(m.predict(X_test))\n",
    "print(m.predict_proba(X_test))"
   ]
  },
  {
   "cell_type": "code",
   "execution_count": 106,
   "id": "22e2e3d5",
   "metadata": {},
   "outputs": [
    {
     "name": "stdout",
     "output_type": "stream",
     "text": [
      "train score :  0.3392857142857143\n",
      "test score :  0.3157894736842105\n"
     ]
    }
   ],
   "source": [
    "m = BernoulliNB()\n",
    "m.fit(X_train, y_train)\n",
    "print('train score : ', m.score(X_train, y_train))\n",
    "print('test score : ', m.score(X_test, y_test))"
   ]
  },
  {
   "cell_type": "code",
   "execution_count": 107,
   "id": "0f2104e3",
   "metadata": {},
   "outputs": [],
   "source": [
    "# raisin 데이터\n",
    "# naive bayes 분류기\n",
    "# 4개 feature 사용, random_state = 10, MinMaxScaler 적용 전 후 score비교."
   ]
  },
  {
   "cell_type": "code",
   "execution_count": 108,
   "id": "bb25e4d9",
   "metadata": {},
   "outputs": [
    {
     "data": {
      "text/html": [
       "<div>\n",
       "<style scoped>\n",
       "    .dataframe tbody tr th:only-of-type {\n",
       "        vertical-align: middle;\n",
       "    }\n",
       "\n",
       "    .dataframe tbody tr th {\n",
       "        vertical-align: top;\n",
       "    }\n",
       "\n",
       "    .dataframe thead th {\n",
       "        text-align: right;\n",
       "    }\n",
       "</style>\n",
       "<table border=\"1\" class=\"dataframe\">\n",
       "  <thead>\n",
       "    <tr style=\"text-align: right;\">\n",
       "      <th></th>\n",
       "      <th>Area</th>\n",
       "      <th>MajorAxisLength</th>\n",
       "      <th>MinorAxisLength</th>\n",
       "      <th>Eccentricity</th>\n",
       "      <th>ConvexArea</th>\n",
       "      <th>Extent</th>\n",
       "      <th>Perimeter</th>\n",
       "      <th>Class</th>\n",
       "    </tr>\n",
       "  </thead>\n",
       "  <tbody>\n",
       "    <tr>\n",
       "      <th>0</th>\n",
       "      <td>87524</td>\n",
       "      <td>442.246011</td>\n",
       "      <td>253.291155</td>\n",
       "      <td>0.819738</td>\n",
       "      <td>90546</td>\n",
       "      <td>0.758651</td>\n",
       "      <td>1184.040</td>\n",
       "      <td>Kecimen</td>\n",
       "    </tr>\n",
       "    <tr>\n",
       "      <th>1</th>\n",
       "      <td>75166</td>\n",
       "      <td>406.690687</td>\n",
       "      <td>243.032436</td>\n",
       "      <td>0.801805</td>\n",
       "      <td>78789</td>\n",
       "      <td>0.684130</td>\n",
       "      <td>1121.786</td>\n",
       "      <td>Kecimen</td>\n",
       "    </tr>\n",
       "    <tr>\n",
       "      <th>2</th>\n",
       "      <td>90856</td>\n",
       "      <td>442.267048</td>\n",
       "      <td>266.328318</td>\n",
       "      <td>0.798354</td>\n",
       "      <td>93717</td>\n",
       "      <td>0.637613</td>\n",
       "      <td>1208.575</td>\n",
       "      <td>Kecimen</td>\n",
       "    </tr>\n",
       "    <tr>\n",
       "      <th>3</th>\n",
       "      <td>45928</td>\n",
       "      <td>286.540559</td>\n",
       "      <td>208.760042</td>\n",
       "      <td>0.684989</td>\n",
       "      <td>47336</td>\n",
       "      <td>0.699599</td>\n",
       "      <td>844.162</td>\n",
       "      <td>Kecimen</td>\n",
       "    </tr>\n",
       "    <tr>\n",
       "      <th>4</th>\n",
       "      <td>79408</td>\n",
       "      <td>352.190770</td>\n",
       "      <td>290.827533</td>\n",
       "      <td>0.564011</td>\n",
       "      <td>81463</td>\n",
       "      <td>0.792772</td>\n",
       "      <td>1073.251</td>\n",
       "      <td>Kecimen</td>\n",
       "    </tr>\n",
       "  </tbody>\n",
       "</table>\n",
       "</div>"
      ],
      "text/plain": [
       "    Area  MajorAxisLength  MinorAxisLength  Eccentricity  ConvexArea  \\\n",
       "0  87524       442.246011       253.291155      0.819738       90546   \n",
       "1  75166       406.690687       243.032436      0.801805       78789   \n",
       "2  90856       442.267048       266.328318      0.798354       93717   \n",
       "3  45928       286.540559       208.760042      0.684989       47336   \n",
       "4  79408       352.190770       290.827533      0.564011       81463   \n",
       "\n",
       "     Extent  Perimeter    Class  \n",
       "0  0.758651   1184.040  Kecimen  \n",
       "1  0.684130   1121.786  Kecimen  \n",
       "2  0.637613   1208.575  Kecimen  \n",
       "3  0.699599    844.162  Kecimen  \n",
       "4  0.792772   1073.251  Kecimen  "
      ]
     },
     "execution_count": 108,
     "metadata": {},
     "output_type": "execute_result"
    }
   ],
   "source": [
    "file = 'Raisin_Dataset.CSV'\n",
    "df = pd.read_csv(file, encoding = 'cp949')\n",
    "df.head()"
   ]
  },
  {
   "cell_type": "code",
   "execution_count": 109,
   "id": "c89f91cb",
   "metadata": {},
   "outputs": [],
   "source": [
    "#Encoder\n",
    "enc = LabelEncoder()\n",
    "\n",
    "y = enc.fit_transform(df['Class'])"
   ]
  },
  {
   "cell_type": "code",
   "execution_count": 110,
   "id": "c0525f0f",
   "metadata": {},
   "outputs": [],
   "source": [
    "X = df[['Area', 'MajorAxisLength', 'Eccentricity', 'Perimeter']]\n",
    "\n",
    "X_train, X_test, y_train, y_test = train_test_split(X, y,  stratify = y, random_state = 10)"
   ]
  },
  {
   "cell_type": "code",
   "execution_count": 111,
   "id": "18f7636e",
   "metadata": {},
   "outputs": [
    {
     "name": "stdout",
     "output_type": "stream",
     "text": [
      "train score :  0.84\n",
      "test score :  0.8355555555555556\n",
      "recall score :  0.8849557522123894\n"
     ]
    }
   ],
   "source": [
    "m = GaussianNB()\n",
    "m.fit(X_train, y_train)\n",
    "print('train score : ', m.score(X_train, y_train))\n",
    "print('test score : ', m.score(X_test, y_test))\n",
    "print('recall score : ', metrics.recall_score(y_test, m.predict(X_test)))"
   ]
  },
  {
   "cell_type": "code",
   "execution_count": 112,
   "id": "7aed6393",
   "metadata": {},
   "outputs": [
    {
     "data": {
      "text/plain": [
       "<sklearn.metrics._plot.roc_curve.RocCurveDisplay at 0x7fe82068f160>"
      ]
     },
     "execution_count": 112,
     "metadata": {},
     "output_type": "execute_result"
    },
    {
     "data": {
      "image/png": "[encoded data removed]",
      "text/plain": [
       "<Figure size 432x288 with 1 Axes>"
      ]
     },
     "metadata": {
      "needs_background": "light"
     },
     "output_type": "display_data"
    }
   ],
   "source": [
    "RocCurveDisplay.from_predictions(y_test, m.predict(X_test))"
   ]
  },
  {
   "cell_type": "code",
   "execution_count": 113,
   "id": "724192a8",
   "metadata": {},
   "outputs": [],
   "source": [
    "X = df[['Area', 'MajorAxisLength', 'Eccentricity', 'Perimeter']]\n",
    "\n",
    "X_train, X_test, y_train, y_test = train_test_split(X, y,  stratify = y, random_state = 10)\n",
    "\n",
    "# scale 하고 분류\n",
    "mms = MinMaxScaler().fit(X_train)\n",
    "\n",
    "X_train = mms.transform(X_train)\n",
    "X_test = mms.transform(X_test)"
   ]
  },
  {
   "cell_type": "code",
   "execution_count": 114,
   "id": "26e9982c",
   "metadata": {},
   "outputs": [
    {
     "name": "stdout",
     "output_type": "stream",
     "text": [
      "train score :  0.8577777777777778\n",
      "test score :  0.8533333333333334\n"
     ]
    }
   ],
   "source": [
    "m = GaussianNB().fit(X_train, y_train)\n",
    "print('train score : ', m.score(X_train, y_train))\n",
    "print('test score : ', m.score(X_test, y_test))"
   ]
  },
  {
   "cell_type": "code",
   "execution_count": 115,
   "id": "d85cadfc",
   "metadata": {},
   "outputs": [
    {
     "data": {
      "text/plain": [
       "<sklearn.metrics._plot.roc_curve.RocCurveDisplay at 0x7fe8209a7fd0>"
      ]
     },
     "execution_count": 115,
     "metadata": {},
     "output_type": "execute_result"
    },
    {
     "data": {
      "image/png": "[encoded data removed]",
      "text/plain": [
       "<Figure size 432x288 with 1 Axes>"
      ]
     },
     "metadata": {
      "needs_background": "light"
     },
     "output_type": "display_data"
    }
   ],
   "source": [
    "RocCurveDisplay.from_predictions(y_test, m.predict(X_test))"
   ]
  },
  {
   "cell_type": "code",
   "execution_count": 116,
   "id": "b12ca682",
   "metadata": {},
   "outputs": [],
   "source": [
    "# sklearn.datasets.load_breast_cancer\n",
    "# naive bayes, LogisticRegression 분류기 비교\n",
    "# random_state = 10, roc커브\n",
    "# 가장 높은 확률로 Malignant 예측되는 X_test 샘플은 어느것인가."
   ]
  },
  {
   "cell_type": "code",
   "execution_count": 117,
   "id": "eff6a24e",
   "metadata": {},
   "outputs": [],
   "source": [
    "X, y = load_breast_cancer(return_X_y = True)\n",
    "\n",
    "#d = load_breast_cancer()\n",
    "#print(d.DESCR)\n",
    "#np.unique(y , return_counts=True) # 0번이 악성, 1번이 양성\n",
    "\n",
    "enc = LabelEncoder()\n",
    "y = enc.fit_transform(y)\n",
    "\n",
    "X_train, X_test, y_train, y_test = train_test_split(X, y, stratify = y , random_state =10)\n",
    "\n",
    "mms = MinMaxScaler().fit(X_train)\n",
    "X_train = mms.transform(X_train)\n",
    "X_test = mms.transform(X_test)"
   ]
  },
  {
   "cell_type": "code",
   "execution_count": 123,
   "id": "fb6ec70f",
   "metadata": {},
   "outputs": [
    {
     "name": "stdout",
     "output_type": "stream",
     "text": [
      "train score :  0.9413145539906104\n",
      "test score :  0.916083916083916\n",
      "precsion :  0.9148936170212766\n",
      "[1 1 1 0 1 1 1 1 0 0 1 0 1 0 1 1 1 1 0 0 1 1 0 0 1 1 1 0 1 1 1 0 1 0 0 1 0\n",
      " 0 1 1 0 1 1 1 1 0 0 1 0 1 1 1 0 1 1 0 1 1 1 0 1 0 0 1 1 1 1 1 1 1 0 1 1 1\n",
      " 1 0 0 1 1 1 1 1 1 1 1 1 0 1 0 0 1 1 1 1 1 1 1 1 1 1 1 0 1 1 1 0 0 1 0 1 0\n",
      " 1 0 1 1 0 1 0 0 0 1 1 1 0 1 0 1 0 1 0 0 1 0 0 1 1 1 1 1 1 0 1 0]\n",
      "\n",
      "train score :  0.9647887323943662\n",
      "test score :  0.958041958041958\n",
      "precsion :  0.9565217391304348\n",
      "[1 1 1 0 1 1 1 1 0 0 1 0 1 0 1 1 1 1 0 0 1 1 0 0 1 1 1 0 1 1 1 0 1 0 0 1 1\n",
      " 0 1 1 0 1 1 1 1 0 1 1 1 1 1 1 0 1 1 0 1 1 1 0 1 0 0 1 1 1 1 1 1 1 0 1 1 1\n",
      " 1 0 0 1 0 1 1 0 1 1 1 0 0 1 0 0 1 1 1 1 1 1 0 0 1 1 1 0 1 1 1 0 0 1 0 1 0\n",
      " 1 1 1 1 0 1 0 0 0 0 1 1 0 1 0 1 0 1 0 0 1 0 0 1 1 1 1 1 1 0 1 0]\n",
      "\n"
     ]
    },
    {
     "data": {
      "image/png": "[encoded data removed]",
      "text/plain": [
       "<Figure size 432x288 with 1 Axes>"
      ]
     },
     "metadata": {
      "needs_background": "light"
     },
     "output_type": "display_data"
    },
    {
     "data": {
      "image/png": "[encoded data removed]",
      "text/plain": [
       "<Figure size 432x288 with 1 Axes>"
      ]
     },
     "metadata": {
      "needs_background": "light"
     },
     "output_type": "display_data"
    }
   ],
   "source": [
    "for m in [GaussianNB(), LogisticRegression(solver = 'liblinear')]:\n",
    "    m.fit(X_train, y_train)\n",
    "    print('train score : ', m.score(X_train, y_train))\n",
    "    print('test score : ', m.score(X_test, y_test))\n",
    "    print('precsion : ', metrics.precision_score(y_test, m.predict(X_test)))\n",
    "    print(m.predict(X_test))\n",
    "    print('')\n",
    "    RocCurveDisplay.from_predictions(y_test, m.predict(X_test))"
   ]
  }
 ],
 "metadata": {
  "kernelspec": {
   "display_name": "Python 3 (ipykernel)",
   "language": "python",
   "name": "python3"
  },
  "language_info": {
   "codemirror_mode": {
    "name": "ipython",
    "version": 3
   },
   "file_extension": ".py",
   "mimetype": "text/x-python",
   "name": "python",
   "nbconvert_exporter": "python",
   "pygments_lexer": "ipython3",
   "version": "3.10.6"
  }
 },
 "nbformat": 4,
 "nbformat_minor": 5
}

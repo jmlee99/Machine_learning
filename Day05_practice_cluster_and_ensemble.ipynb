{
 "cells": [
  {
   "cell_type": "code",
   "execution_count": 56,
   "id": "247044da",
   "metadata": {},
   "outputs": [],
   "source": [
    "import numpy as np\n",
    "import pandas as pd\n",
    "import matplotlib.pyplot as plt\n",
    "import seaborn as sns\n",
    "\n",
    "from sklearn.preprocessing import LabelEncoder, StandardScaler\n",
    "from sklearn.model_selection import train_test_split\n",
    "from sklearn.linear_model import SGDClassifier\n",
    "from sklearn.ensemble import AdaBoostClassifier\n",
    "from sklearn.cluster import KMeans, MeanShift, SpectralClustering\n",
    "from sklearn import metrics"
   ]
  },
  {
   "cell_type": "code",
   "execution_count": 57,
   "id": "b2a058fb",
   "metadata": {},
   "outputs": [
    {
     "data": {
      "text/html": [
       "<div>\n",
       "<style scoped>\n",
       "    .dataframe tbody tr th:only-of-type {\n",
       "        vertical-align: middle;\n",
       "    }\n",
       "\n",
       "    .dataframe tbody tr th {\n",
       "        vertical-align: top;\n",
       "    }\n",
       "\n",
       "    .dataframe thead th {\n",
       "        text-align: right;\n",
       "    }\n",
       "</style>\n",
       "<table border=\"1\" class=\"dataframe\">\n",
       "  <thead>\n",
       "    <tr style=\"text-align: right;\">\n",
       "      <th></th>\n",
       "      <th>species</th>\n",
       "      <th>island</th>\n",
       "      <th>bill_length_mm</th>\n",
       "      <th>bill_depth_mm</th>\n",
       "      <th>flipper_length_mm</th>\n",
       "      <th>body_mass_g</th>\n",
       "      <th>sex</th>\n",
       "    </tr>\n",
       "  </thead>\n",
       "  <tbody>\n",
       "    <tr>\n",
       "      <th>0</th>\n",
       "      <td>Adelie</td>\n",
       "      <td>Torgersen</td>\n",
       "      <td>39.1</td>\n",
       "      <td>18.7</td>\n",
       "      <td>181.0</td>\n",
       "      <td>3750.0</td>\n",
       "      <td>Male</td>\n",
       "    </tr>\n",
       "    <tr>\n",
       "      <th>1</th>\n",
       "      <td>Adelie</td>\n",
       "      <td>Torgersen</td>\n",
       "      <td>39.5</td>\n",
       "      <td>17.4</td>\n",
       "      <td>186.0</td>\n",
       "      <td>3800.0</td>\n",
       "      <td>Female</td>\n",
       "    </tr>\n",
       "    <tr>\n",
       "      <th>2</th>\n",
       "      <td>Adelie</td>\n",
       "      <td>Torgersen</td>\n",
       "      <td>40.3</td>\n",
       "      <td>18.0</td>\n",
       "      <td>195.0</td>\n",
       "      <td>3250.0</td>\n",
       "      <td>Female</td>\n",
       "    </tr>\n",
       "    <tr>\n",
       "      <th>4</th>\n",
       "      <td>Adelie</td>\n",
       "      <td>Torgersen</td>\n",
       "      <td>36.7</td>\n",
       "      <td>19.3</td>\n",
       "      <td>193.0</td>\n",
       "      <td>3450.0</td>\n",
       "      <td>Female</td>\n",
       "    </tr>\n",
       "    <tr>\n",
       "      <th>5</th>\n",
       "      <td>Adelie</td>\n",
       "      <td>Torgersen</td>\n",
       "      <td>39.3</td>\n",
       "      <td>20.6</td>\n",
       "      <td>190.0</td>\n",
       "      <td>3650.0</td>\n",
       "      <td>Male</td>\n",
       "    </tr>\n",
       "  </tbody>\n",
       "</table>\n",
       "</div>"
      ],
      "text/plain": [
       "  species     island  bill_length_mm  bill_depth_mm  flipper_length_mm  \\\n",
       "0  Adelie  Torgersen            39.1           18.7              181.0   \n",
       "1  Adelie  Torgersen            39.5           17.4              186.0   \n",
       "2  Adelie  Torgersen            40.3           18.0              195.0   \n",
       "4  Adelie  Torgersen            36.7           19.3              193.0   \n",
       "5  Adelie  Torgersen            39.3           20.6              190.0   \n",
       "\n",
       "   body_mass_g     sex  \n",
       "0       3750.0    Male  \n",
       "1       3800.0  Female  \n",
       "2       3250.0  Female  \n",
       "4       3450.0  Female  \n",
       "5       3650.0    Male  "
      ]
     },
     "execution_count": 57,
     "metadata": {},
     "output_type": "execute_result"
    }
   ],
   "source": [
    "data = sns.load_dataset('penguins')\n",
    "data.dropna(inplace=True)\n",
    "data.head()\n",
    "\n",
    "# indep.var(data, X) = bill_length_mm\tbill_depth_mm\tflipper_length_mm\tbody_mass_g\n",
    "# dep.var.(data, y) : island\n",
    "\n",
    "# AdaBoostClassifier\n",
    "# - estimator : default\n",
    "# - estimater : SGDClassifier, n_estiamtor=100\n",
    "\n",
    "# bill_length_mm, bill_depth_mm --> sns.relplot(), hue=spec\n",
    "# KMeans 군집화 3개, species 제대로 나누는지 homogeniety_score"
   ]
  },
  {
   "cell_type": "code",
   "execution_count": 58,
   "id": "31d3227c",
   "metadata": {},
   "outputs": [],
   "source": [
    "X = data.iloc[:, 2:6]\n",
    "y = data.iloc[:, 0].astype('category').cat.codes\n",
    "\n",
    "ss = StandardScaler().fit(X)\n",
    "ss.transform(X)\n",
    "\n",
    "le = LabelEncoder().fit(y)\n",
    "y = le.transform(y)"
   ]
  },
  {
   "cell_type": "code",
   "execution_count": 59,
   "id": "cece7ab2",
   "metadata": {},
   "outputs": [],
   "source": [
    "X_train, X_test, y_train, y_test = train_test_split(X, y, stratify = y, random_state = 10)"
   ]
  },
  {
   "cell_type": "code",
   "execution_count": 60,
   "id": "b19ab3db",
   "metadata": {},
   "outputs": [
    {
     "name": "stdout",
     "output_type": "stream",
     "text": [
      "----------- adaboost -------------\n",
      "Train score :  0.8112449799196787\n",
      "Test score :  0.7738095238095238\n",
      "----------- sgdclassifier -------------\n",
      "Train score :  0.20883534136546184\n",
      "Test score :  0.20238095238095238\n",
      "----------- adaboost_estimator -------------\n",
      "Train score :  0.8112449799196787\n",
      "Test score :  0.7738095238095238\n"
     ]
    }
   ],
   "source": [
    "classifiers = [AdaBoostClassifier(), SGDClassifier(loss = 'log_loss'), AdaBoostClassifier(n_estimators = 100)]\n",
    "classifier_names = ['adaboost', 'sgdclassifier', 'adaboost_estimator']\n",
    "\n",
    "for a, b in zip(classifiers, classifier_names):\n",
    "    m = a\n",
    "    m.fit(X_train, y_train)\n",
    "    print('-----------', b, '-------------')\n",
    "    print('Train score : ', m.score(X_train, y_train))\n",
    "    print('Test score : ', m.score(X_test, y_test))"
   ]
  },
  {
   "cell_type": "code",
   "execution_count": 67,
   "id": "0dcff511",
   "metadata": {},
   "outputs": [
    {
     "name": "stdout",
     "output_type": "stream",
     "text": [
      "Train score :  0.5100401606425703\n",
      "Test score :  0.5119047619047619\n"
     ]
    }
   ],
   "source": [
    "m2 = AdaBoostClassifier(estimator = SGDClassifier(), n_estimators = 100, algorithm='SAMME')\n",
    "m2.fit(X_train, y_train)\n",
    "\n",
    "print('Train score : ', m2.score(X_train, y_train))\n",
    "print('Test score : ', m2.score(X_test, y_test))"
   ]
  },
  {
   "cell_type": "code",
   "execution_count": 61,
   "id": "2b25674e",
   "metadata": {},
   "outputs": [],
   "source": [
    "X = X.iloc[:, 0:2] \n",
    "y = data.iloc[:, 0].astype('category').cat.codes"
   ]
  },
  {
   "cell_type": "code",
   "execution_count": 70,
   "id": "f4b4db42",
   "metadata": {},
   "outputs": [
    {
     "name": "stdout",
     "output_type": "stream",
     "text": [
      "------ KMeans(n_clusters=3, n_init='auto')\n",
      "0.546016244591003\n",
      "------ MeanShift()\n",
      "0.49969920669383106\n",
      "------ SpectralClustering(n_clusters=3)\n",
      "0.6509731440567795\n"
     ]
    }
   ],
   "source": [
    "models = [KMeans(n_clusters = 3, n_init = 'auto'), MeanShift(), SpectralClustering(n_clusters = 3)]\n",
    "\n",
    "for m in models:\n",
    "    m.fit(X)\n",
    "    print('------', m)\n",
    "    #\"print(m.labels_)\n",
    "    print(metrics.homogeneity_score(y, m.labels_))"
   ]
  },
  {
   "cell_type": "code",
   "execution_count": 63,
   "id": "6e987e31",
   "metadata": {},
   "outputs": [
    {
     "data": {
      "text/plain": [
       "<seaborn.axisgrid.FacetGrid at 0x7fbd9c8d0a60>"
      ]
     },
     "execution_count": 63,
     "metadata": {},
     "output_type": "execute_result"
    },
    {
     "data": {
      "image/png": "[encoded data removed]",
      "text/plain": [
       "<Figure size 444.125x360 with 1 Axes>"
      ]
     },
     "metadata": {
      "needs_background": "light"
     },
     "output_type": "display_data"
    }
   ],
   "source": [
    "sns.relplot(data = data, x = 'bill_length_mm', y = 'bill_depth_mm', hue = 'species')"
   ]
  }
 ],
 "metadata": {
  "kernelspec": {
   "display_name": "Python 3 (ipykernel)",
   "language": "python",
   "name": "python3"
  },
  "language_info": {
   "codemirror_mode": {
    "name": "ipython",
    "version": 3
   },
   "file_extension": ".py",
   "mimetype": "text/x-python",
   "name": "python",
   "nbconvert_exporter": "python",
   "pygments_lexer": "ipython3",
   "version": "3.10.6"
  }
 },
 "nbformat": 4,
 "nbformat_minor": 5
}

{
 "cells": [
  {
   "cell_type": "code",
   "execution_count": 42,
   "id": "dc5ddb1d",
   "metadata": {},
   "outputs": [],
   "source": [
    "import numpy as np\n",
    "import pandas as pd\n",
    "import matplotlib.pyplot as plt\n",
    "import seaborn as sns\n",
    "\n",
    "from sklearn.datasets import load_linnerud\n",
    "from sklearn.model_selection import train_test_split\n",
    "from sklearn.linear_model import LinearRegression, SGDRegressor, Ridge, Lasso\n",
    "from sklearn.metrics import r2_score, mean_squared_error"
   ]
  },
  {
   "cell_type": "code",
   "execution_count": 34,
   "id": "4ae2d7a5",
   "metadata": {},
   "outputs": [
    {
     "name": "stdout",
     "output_type": "stream",
     "text": [
      ".. _linnerrud_dataset:\n",
      "\n",
      "Linnerrud dataset\n",
      "-----------------\n",
      "\n",
      "**Data Set Characteristics:**\n",
      "\n",
      "    :Number of Instances: 20\n",
      "    :Number of Attributes: 3\n",
      "    :Missing Attribute Values: None\n",
      "\n",
      "The Linnerud dataset is a multi-output regression dataset. It consists of three\n",
      "exercise (data) and three physiological (target) variables collected from\n",
      "twenty middle-aged men in a fitness club:\n",
      "\n",
      "- *physiological* - CSV containing 20 observations on 3 physiological variables:\n",
      "   Weight, Waist and Pulse.\n",
      "- *exercise* - CSV containing 20 observations on 3 exercise variables:\n",
      "   Chins, Situps and Jumps.\n",
      "\n",
      ".. topic:: References\n",
      "\n",
      "  * Tenenhaus, M. (1998). La regression PLS: theorie et pratique. Paris:\n",
      "    Editions Technic.\n",
      "\n",
      "[[  5. 162.  60.]\n",
      " [  2. 110.  60.]\n",
      " [ 12. 101. 101.]\n",
      " [ 12. 105.  37.]\n",
      " [ 13. 155.  58.]\n",
      " [  4. 101.  42.]\n",
      " [  8. 101.  38.]\n",
      " [  6. 125.  40.]\n",
      " [ 15. 200.  40.]\n",
      " [ 17. 251. 250.]\n",
      " [ 17. 120.  38.]\n",
      " [ 13. 210. 115.]\n",
      " [ 14. 215. 105.]\n",
      " [  1.  50.  50.]\n",
      " [  6.  70.  31.]\n",
      " [ 12. 210. 120.]\n",
      " [  4.  60.  25.]\n",
      " [ 11. 230.  80.]\n",
      " [ 15. 225.  73.]\n",
      " [  2. 110.  43.]]\n",
      "[[191.  36.  50.]\n",
      " [189.  37.  52.]\n",
      " [193.  38.  58.]\n",
      " [162.  35.  62.]\n",
      " [189.  35.  46.]\n",
      " [182.  36.  56.]\n",
      " [211.  38.  56.]\n",
      " [167.  34.  60.]\n",
      " [176.  31.  74.]\n",
      " [154.  33.  56.]\n",
      " [169.  34.  50.]\n",
      " [166.  33.  52.]\n",
      " [154.  34.  64.]\n",
      " [247.  46.  50.]\n",
      " [193.  36.  46.]\n",
      " [202.  37.  62.]\n",
      " [176.  37.  54.]\n",
      " [157.  32.  52.]\n",
      " [156.  33.  54.]\n",
      " [138.  33.  68.]]\n"
     ]
    }
   ],
   "source": [
    "t = load_linnerud()\n",
    "print(t.DESCR)\n",
    "print(t['data'])\n",
    "print(t['target'])"
   ]
  },
  {
   "cell_type": "code",
   "execution_count": 35,
   "id": "189e0ea1",
   "metadata": {},
   "outputs": [
    {
     "name": "stdout",
     "output_type": "stream",
     "text": [
      "[[191.  36.  50.]\n",
      " [189.  37.  52.]\n",
      " [193.  38.  58.]\n",
      " [162.  35.  62.]\n",
      " [189.  35.  46.]\n",
      " [182.  36.  56.]\n",
      " [211.  38.  56.]\n",
      " [167.  34.  60.]\n",
      " [176.  31.  74.]\n",
      " [154.  33.  56.]\n",
      " [169.  34.  50.]\n",
      " [166.  33.  52.]\n",
      " [154.  34.  64.]\n",
      " [247.  46.  50.]\n",
      " [193.  36.  46.]\n",
      " [202.  37.  62.]\n",
      " [176.  37.  54.]\n",
      " [157.  32.  52.]\n",
      " [156.  33.  54.]\n",
      " [138.  33.  68.]]\n",
      "(20, 3)\n"
     ]
    }
   ],
   "source": [
    "# 몸무게, 키, 심박수로 situp개수를 예측하기 위해 target이랑 데이터 반대로 받아옴\n",
    "\n",
    "y, X = load_linnerud(return_X_y = True)\n",
    "print(X) # weight, waist, pulse\n",
    "print(y.shape) # chins, situps, jumps\n",
    "y = y[:, 1] # situps, 1차원 배열"
   ]
  },
  {
   "cell_type": "code",
   "execution_count": 36,
   "id": "73eca484",
   "metadata": {},
   "outputs": [
    {
     "name": "stdout",
     "output_type": "stream",
     "text": [
      "[  0.60388495 -16.73705076   0.24510045] 628.1309484144331\n",
      "0.48951928525028654\n",
      "0.48951928525028654\n",
      "-20.940403953059818\n",
      "-20.940403953059818\n"
     ]
    }
   ],
   "source": [
    "# weight, waist, pulse를 이용해서 situps 갯수를 예측하는 회귀 모델\n",
    "# target = situps\n",
    "# LinearRegresssioni, SGDRegressor 사용, 각각 coef, intercept, r2 값 확인\n",
    "\n",
    "# independent value --weight, waist, pulse\n",
    "# dependent value --situp\n",
    "\n",
    "X_train, X_test, y_train, y_test = train_test_split(X, y, random_state = 10)\n",
    "m = LinearRegression()\n",
    "m.fit(X_train, y_train) # 머신러닝이 끝나면 공식이 완성\n",
    "print(m.coef_, m.intercept_)\n",
    "\n",
    "train_score = m.score(X_train, y_train)\n",
    "print(train_score)\n",
    "\n",
    "train_r2 = r2_score(y_train, m.predict(X_train))\n",
    "print(train_r2)\n",
    "\n",
    "# 보통 검증을 할때는 test data를 사용하여 검증\n",
    "test_score = m.score(X_test, y_test)\n",
    "print(test_score)\n",
    "test_r2 = r2_score(y_test, m.predict(X_test))\n",
    "print(test_r2)\n",
    "\n",
    "# train score는 괜찮은 데, test데이터를 넣었을때 지금과 같이 error값이 더 높게 나오는 현상이 '과적합'이다."
   ]
  },
  {
   "cell_type": "code",
   "execution_count": 37,
   "id": "b937257f",
   "metadata": {},
   "outputs": [
    {
     "name": "stdout",
     "output_type": "stream",
     "text": [
      "[-1.80050315e+11 -3.41914897e+10  1.15781885e+11] [-5.68294058e+09]\n",
      "-1.7184645514855832e+23\n",
      "-1.7184645514855832e+23\n",
      "-7.096955993550115e+24\n",
      "-7.096955993550115e+24\n"
     ]
    }
   ],
   "source": [
    "X_train, X_test, y_train, y_test = train_test_split(X, y, random_state = 10)\n",
    "m = SGDRegressor(max_iter =10000)\n",
    "m.fit(X_train, y_train) # 머신러닝이 끝나면 공식이 완성\n",
    "print(m.coef_, m.intercept_)\n",
    "\n",
    "\n",
    "train_score = m.score(X_train, y_train)\n",
    "print(train_score)\n",
    "\n",
    "train_r2 = r2_score(y_train, m.predict(X_train))\n",
    "print(train_r2)\n",
    "\n",
    "# 보통 검증을 할때는 test data를 사용하여 검증\n",
    "test_score = m.score(X_test, y_test)\n",
    "print(test_score)\n",
    "test_r2 = r2_score(y_test, m.predict(X_test))\n",
    "print(test_r2)"
   ]
  },
  {
   "cell_type": "code",
   "execution_count": 49,
   "id": "5fd267b8",
   "metadata": {},
   "outputs": [
    {
     "name": "stdout",
     "output_type": "stream",
     "text": [
      "[ 0.49402866 -0.27433127  0.05463569] 212.7887714807742\n",
      "0.3139985280076171\n",
      "0.3139985280076171\n",
      "-0.32991213695065946\n",
      "-0.32991213695065946\n",
      "=========================================\n",
      "[ 1.36976865e+11 -6.25397908e+11  4.50623094e+11] [1.78933491e+10]\n",
      "-7.027556157787524e+24\n",
      "-7.027556157787524e+24\n",
      "-8.172981665256036e+24\n",
      "-8.172981665256036e+24\n",
      "=========================================\n"
     ]
    }
   ],
   "source": [
    "X_train, X_test, y_train, y_test = train_test_split(X, y, random_state = 10)\n",
    "\n",
    "\n",
    "for m in [LinearRegression(), SGDRegressor(max_iter=1000)]:\n",
    "    m.fit(X_train, y_train)\n",
    "    print(m.coef_, m.intercept_)\n",
    "\n",
    "\n",
    "    train_score = m.score(X_train, y_train)\n",
    "    print(train_score)\n",
    "\n",
    "    train_r2 = r2_score(y_train, m.predict(X_train))\n",
    "    print(train_r2)\n",
    "\n",
    "    # 보통 검증을 할때는 test data를 사용하여 검증\n",
    "    test_score = m.score(X_test, y_test)\n",
    "    print(test_score)\n",
    "    test_r2 = r2_score(y_test, m.predict(X_test))\n",
    "    print(test_r2)\n",
    "    print('=========================================')"
   ]
  },
  {
   "cell_type": "code",
   "execution_count": 47,
   "id": "efa7122d",
   "metadata": {},
   "outputs": [],
   "source": [
    "#chins, situps, jumps를 이용해 weight 예측 모델\n",
    "\n",
    "X, y = load_linnerud(return_X_y = True)\n",
    "y = y[:, 0]"
   ]
  },
  {
   "cell_type": "code",
   "execution_count": 40,
   "id": "ac559912",
   "metadata": {},
   "outputs": [
    {
     "name": "stdout",
     "output_type": "stream",
     "text": [
      "[ 0.49402866 -0.27433127  0.05463569] 212.7887714807742\n",
      "train score :  0.3139985280076171\n",
      "test score :  -0.32991213695065946\n",
      "=================\n",
      "[-2.32298626e+11  4.62421408e+11  2.85362473e+11] [1.98084567e+10]\n",
      "train score :  -1.5622950268458486e+25\n",
      "test score :  -1.159072785503414e+25\n",
      "=================\n"
     ]
    }
   ],
   "source": [
    "X_train, X_test, y_train, y_test = train_test_split(X, y, random_state = 10)\n",
    "\n",
    "for m in [LinearRegression(), SGDRegressor(max_iter=1000)]:\n",
    "    m.fit(X_train, y_train)\n",
    "    print(m.coef_, m.intercept_)\n",
    "    print('train score : ', m.score(X_train , y_train))\n",
    "    print('test score : ', m.score(X_test , y_test))\n",
    "    print('=================')"
   ]
  },
  {
   "cell_type": "markdown",
   "id": "e25aec53",
   "metadata": {},
   "source": [
    "***smaple data가 너무 작아서 값이 이렇게 안좋게 나온다.***\n",
    "- 상관도가 있는지 없는지 scatter plot을 이용하면 된다."
   ]
  },
  {
   "cell_type": "markdown",
   "id": "c0cb8303",
   "metadata": {},
   "source": [
    "#### overfit, underfit, bias, variance\n",
    "\n",
    "#### overfit : low bias, high variance\n",
    "#### underfit : high bias, low variance\n",
    "#### bias는 실제데이터와 예측값하고의 차이\n",
    "\n",
    "#### 과적합을 막는 방법은 ridge(L2-norm), Lasso(L1-norm)\n",
    "#### alpha값을가진다. alpha는 노이즈를 얼마나 줄것인지를 결정하는 변수이다."
   ]
  },
  {
   "cell_type": "code",
   "execution_count": 43,
   "id": "fe997f84",
   "metadata": {},
   "outputs": [
    {
     "name": "stdout",
     "output_type": "stream",
     "text": [
      "[ 0.48264555 -0.27360712  0.05471788] 212.7760120253623\n",
      "0.31399672117445876\n",
      "0.31399672117445876\n",
      "-0.32520242685054224\n",
      "-0.32520242685054224\n"
     ]
    }
   ],
   "source": [
    "# m = Regid(alpha=0.1) \n",
    "m = Lasso(alpha=0.1)\n",
    "m.fit(X_train, y_train) # 머신러닝이 끝나면 공식이 완성\n",
    "print(m.coef_, m.intercept_)\n",
    "\n",
    "\n",
    "train_score = m.score(X_train, y_train)\n",
    "print(train_score)\n",
    "\n",
    "train_r2 = r2_score(y_train, m.predict(X_train))\n",
    "print(train_r2)\n",
    "\n",
    "# 보통 검증을 할때는 test data를 사용하여 검증\n",
    "test_score = m.score(X_test, y_test)\n",
    "print(test_score)\n",
    "test_r2 = r2_score(y_test, m.predict(X_test))\n",
    "print(test_r2)"
   ]
  },
  {
   "cell_type": "code",
   "execution_count": 44,
   "id": "4ea8b045",
   "metadata": {},
   "outputs": [
    {
     "name": "stdout",
     "output_type": "stream",
     "text": [
      "[ 0.49402866 -0.27433127  0.05463569] 212.7887714807742\n",
      "train score :  0.3139985280076171\n",
      "test score :  -0.32991213695065946\n",
      "=================\n",
      "[-2.28310451e+10  3.60982745e+11 -4.33087514e+10] [2.74915887e+10]\n",
      "train score :  -4.969871801830837e+24\n",
      "test score :  -4.6560884676969315e+24\n",
      "=================\n",
      "[ 0.49365994 -0.27430916  0.05464038] 212.78840575465998\n",
      "train score :  0.31399852613283485\n",
      "test score :  -0.32975689230914385\n",
      "=================\n",
      "[ 0.48264555 -0.27360712  0.05471788] 212.7760120253623\n",
      "train score :  0.31399672117445876\n",
      "test score :  -0.32520242685054224\n",
      "=================\n"
     ]
    }
   ],
   "source": [
    "X_train, X_test, y_train, y_test = train_test_split(X, y, random_state = 10)\n",
    "\n",
    "for m in [LinearRegression(), SGDRegressor(max_iter=1000), Ridge(alpha = 0.1), Lasso(alpha = 0.1)]:\n",
    "    m.fit(X_train, y_train)\n",
    "    print(m.coef_, m.intercept_)\n",
    "    print('train score : ', m.score(X_train , y_train))\n",
    "    print('test score : ', m.score(X_test , y_test))\n",
    "    print('=================')"
   ]
  }
 ],
 "metadata": {
  "kernelspec": {
   "display_name": "Python 3 (ipykernel)",
   "language": "python",
   "name": "python3"
  },
  "language_info": {
   "codemirror_mode": {
    "name": "ipython",
    "version": 3
   },
   "file_extension": ".py",
   "mimetype": "text/x-python",
   "name": "python",
   "nbconvert_exporter": "python",
   "pygments_lexer": "ipython3",
   "version": "3.10.6"
  }
 },
 "nbformat": 4,
 "nbformat_minor": 5
}
